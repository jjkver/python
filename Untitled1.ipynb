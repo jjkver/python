{
 "cells": [
  {
   "cell_type": "code",
   "execution_count": 3,
   "metadata": {},
   "outputs": [
    {
     "name": "stdout",
     "output_type": "stream",
     "text": [
      "<class 'numpy.ndarray'>\n",
      "3 33 333\n"
     ]
    }
   ],
   "source": [
    "import numpy as np\n",
    "\n",
    "an_arr=np.array([3,33,333])\n",
    "\n",
    "print(type(an_arr))\n",
    "\n",
    "print(an_arr[0],an_arr[1],an_arr[2])"
   ]
  },
  {
   "cell_type": "code",
   "execution_count": 11,
   "metadata": {},
   "outputs": [
    {
     "name": "stdout",
     "output_type": "stream",
     "text": [
      "[21 22 23 24] (4,)\n",
      "(4,)\n",
      "[[21 22 23 24]] (1, 4)\n",
      "(1, 4)\n"
     ]
    }
   ],
   "source": [
    "an_arr=np.array([[11,12,13,14],\n",
    "                [21,22,23,24],\n",
    "                [31,32,33,34]])\n",
    "row_rank1=an_arr[1,:]\n",
    "print(row_rank1,row_rank1.shape)\n",
    "print(row_rank1.shape)\n",
    "row_rank3=an_arr[1:2,:]\n",
    "print(row_rank3,row_rank3.shape)\n",
    "print(row_rank3.shape)"
   ]
  },
  {
   "cell_type": "code",
   "execution_count": null,
   "metadata": {},
   "outputs": [],
   "source": []
  }
 ],
 "metadata": {
  "kernelspec": {
   "display_name": "Python 3",
   "language": "python",
   "name": "python3"
  },
  "language_info": {
   "codemirror_mode": {
    "name": "ipython",
    "version": 3
   },
   "file_extension": ".py",
   "mimetype": "text/x-python",
   "name": "python",
   "nbconvert_exporter": "python",
   "pygments_lexer": "ipython3",
   "version": "3.6.5"
  }
 },
 "nbformat": 4,
 "nbformat_minor": 2
}
